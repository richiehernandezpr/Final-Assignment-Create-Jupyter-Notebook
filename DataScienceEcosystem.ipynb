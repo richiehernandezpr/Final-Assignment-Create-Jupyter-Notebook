{
 "cells": [
  {
   "cell_type": "markdown",
   "id": "f3a64032-0196-496f-b0b5-e903505f9d42",
   "metadata": {
    "tags": []
   },
   "source": [
    "### Data Science Tools and Ecosystem"
   ]
  },
  {
   "cell_type": "code",
   "execution_count": null,
   "id": "26a16019-3aa5-4c57-ae27-d71040b303d8",
   "metadata": {},
   "outputs": [],
   "source": [
    "**Objectives:**\n",
    "- Popular languages of data scientists\n",
    "- Moat commonly used libraries used by data scientists\n",
    "-Data Science tools\n",
    "- Arithmetic expressions"
   ]
  },
  {
   "cell_type": "markdown",
   "id": "9edff9c7-6994-44b3-8843-556faf6fcc10",
   "metadata": {
    "tags": []
   },
   "source": [
    " In this notebook Data Science Tools and Ecosystem are summarized"
   ]
  },
  {
   "cell_type": "markdown",
   "id": "a9ed056c-59dd-4687-b87c-29dec8647e0b",
   "metadata": {
    "tags": []
   },
   "source": [
    "Some of the popular languages that data scientists use are: \n",
    "1. Python\n",
    "2. R\n",
    "3. Java "
   ]
  },
  {
   "cell_type": "markdown",
   "id": "319d6fe5-20fd-4918-a320-4dbef5596698",
   "metadata": {},
   "source": [
    "Some of the commonly used libraries used by Data Scientists include:\n",
    "1. Tensorflow\n",
    "2. PyTorch\n",
    "3. Panda"
   ]
  },
  {
   "cell_type": "markdown",
   "id": "2a968816-1bc7-4bd9-914f-307ef80c4b7d",
   "metadata": {},
   "source": [
    "Data Science Tools\n",
    "| --- | --- | --- |\n",
    "\n",
    "| Tensorflow | Rstudio | Apache Spark |"
   ]
  },
  {
   "cell_type": "markdown",
   "id": "cfedb409-3b4d-4e71-8c1e-edecb212dd24",
   "metadata": {},
   "source": [
    "## Below are a few examples of evaluating arithmetic expressions of Python:"
   ]
  },
  {
   "cell_type": "code",
   "execution_count": 4,
   "id": "b8e8dbb2-4c0b-4901-af51-34668062ec44",
   "metadata": {},
   "outputs": [
    {
     "data": {
      "text/plain": [
       "17"
      ]
     },
     "execution_count": 4,
     "metadata": {},
     "output_type": "execute_result"
    }
   ],
   "source": [
    "This is a simple arithmetic expressions to multiply and add integers\n",
    "(3*4)+5"
   ]
  },
  {
   "cell_type": "code",
   "execution_count": 3,
   "id": "a3825eb3-336b-430e-8fe1-34d0e60300a0",
   "metadata": {},
   "outputs": [
    {
     "data": {
      "text/plain": [
       "3.3333333333333335"
      ]
     },
     "execution_count": 3,
     "metadata": {},
     "output_type": "execute_result"
    }
   ],
   "source": [
    "This will convert 200 minutes to hours by dividing by 60.\n",
    "200/60"
   ]
  },
  {
   "cell_type": "code",
   "execution_count": null,
   "id": "a1696e43-52d9-4427-bf67-d0214dec7c88",
   "metadata": {},
   "outputs": [],
   "source": [
    "## Author\n",
    "Richard Hernandez"
   ]
  }
 ],
 "metadata": {
  "kernelspec": {
   "display_name": "anaconda-panel-2023.05-py310",
   "language": "python",
   "name": "conda-env-anaconda-panel-2023.05-py310-py"
  },
  "language_info": {
   "codemirror_mode": {
    "name": "ipython",
    "version": 3
   },
   "file_extension": ".py",
   "mimetype": "text/x-python",
   "name": "python",
   "nbconvert_exporter": "python",
   "pygments_lexer": "ipython3",
   "version": "3.11.4"
  }
 },
 "nbformat": 4,
 "nbformat_minor": 5
}
